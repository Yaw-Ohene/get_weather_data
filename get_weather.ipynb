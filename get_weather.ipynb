{
 "cells": [
  {
   "cell_type": "code",
   "execution_count": 7,
   "metadata": {},
   "outputs": [],
   "source": [
    "import requests\n",
    "import pandas as pd"
   ]
  },
  {
   "cell_type": "code",
   "execution_count": 20,
   "metadata": {},
   "outputs": [
    {
     "name": "stdout",
     "output_type": "stream",
     "text": [
      "     city  temperature (C)  humidity (%)     weather  wind speed (m/s)\n",
      "0  Kumasi            24.26            89  light rain              2.23\n"
     ]
    }
   ],
   "source": [
    "API_KEY = \"a1f4a6cb691e3739da8604ae7de756c1\"\n",
    "CITY = \"Kumasi\"\n",
    "URL = f\"https://api.openweathermap.org/data/2.5/weather?q={CITY}&appid={API_KEY}&units=metric\"\n",
    "\n",
    "response = requests.get(URL)\n",
    "data = response.json()\n",
    "\n",
    "if response.status_code == 200 and \"main\" in data:\n",
    "    weather_data = {\n",
    "        \"city\": data.get('name'),\n",
    "        \"temperature (C)\": data['main'].get('temp'),\n",
    "        \"humidity (%)\": data['main'].get('humidity'),\n",
    "        \"weather\": data['weather'][0].get('description'),\n",
    "        \"wind speed (m/s)\": data['wind'].get('speed')\n",
    "    }\n",
    "    df = pd.DataFrame([weather_data])\n",
    "    print(df)\n",
    "else:\n",
    "    print(\"Error fetching weather data:\", data.get(\"message\", \"Unknown error\"))"
   ]
  },
  {
   "cell_type": "code",
   "execution_count": 23,
   "metadata": {},
   "outputs": [
    {
     "name": "stdout",
     "output_type": "stream",
     "text": [
      "{'coord': {'lon': 139.6917, 'lat': 35.6895}, 'weather': [{'id': 800, 'main': 'Clear', 'description': 'clear sky', 'icon': '01d'}], 'base': 'stations', 'main': {'temp': 15.17, 'feels_like': 13.92, 'temp_min': 13.66, 'temp_max': 15.91, 'pressure': 1005, 'humidity': 45, 'sea_level': 1005, 'grnd_level': 1003}, 'visibility': 10000, 'wind': {'speed': 6.17, 'deg': 200}, 'clouds': {'all': 0}, 'dt': 1742681100, 'sys': {'type': 2, 'id': 268395, 'country': 'JP', 'sunrise': 1742676063, 'sunset': 1742720079}, 'timezone': 32400, 'id': 1850144, 'name': 'Tokyo', 'cod': 200}\n"
     ]
    }
   ],
   "source": [
    "print(data)"
   ]
  },
  {
   "cell_type": "code",
   "execution_count": 27,
   "metadata": {},
   "outputs": [
    {
     "name": "stdout",
     "output_type": "stream",
     "text": [
      "       city country  temperature (C)  humidity (%)           weather  \\\n",
      "0  Helsinki      FI             1.02            82         clear sky   \n",
      "1     Accra      GH            28.23            89        light rain   \n",
      "2    London      GB            10.23            90   overcast clouds   \n",
      "3  New York      US            15.22            39  scattered clouds   \n",
      "4     Tokyo      JP            15.32            44         clear sky   \n",
      "5   Kokkola      FI            -0.19            80         clear sky   \n",
      "\n",
      "   wind speed (m/s)  \n",
      "0              4.92  \n",
      "1              4.12  \n",
      "2              2.06  \n",
      "3             10.80  \n",
      "4              6.17  \n",
      "5              4.63  \n"
     ]
    }
   ],
   "source": [
    "API_KEY = \"a1f4a6cb691e3739da8604ae7de756c1\"\n",
    "cities = [\"Helsinki\", \"Accra\", \"London\", \"New York\", \"Tokyo\", \"Kokkola\"]\n",
    "\n",
    "all_weather_data = []\n",
    "\n",
    "for city in cities:\n",
    "    url = f\"https://api.openweathermap.org/data/2.5/weather?q={city}&appid={API_KEY}&units=metric\"\n",
    "    response = requests.get(url)\n",
    "    data = response.json()\n",
    "\n",
    "    if response.status_code == 200 and \"name\" in data:\n",
    "        weather_data = {\n",
    "            \"city\": data.get('name', 'N/A'),\n",
    "            \"country\": data.get('sys', {}).get('country', 'N/A'),\n",
    "            \"temperature (C)\": data.get('main', {}).get('temp', 'N/A'),\n",
    "            \"humidity (%)\": data.get('main', {}).get('humidity', 'N/A'),\n",
    "            \"weather\": data.get('weather', [{}])[0].get('description', 'N/A'),\n",
    "            \"wind speed (m/s)\": data.get('wind', {}).get('speed', 'N/A')\n",
    "        }\n",
    "        all_weather_data.append(weather_data)\n",
    "    else:\n",
    "        print(f\"❌ Failed to fetch weather data for: {city} — {data.get('message', 'Unknown error')}\")\n",
    "\n",
    "# Convert all collected data to a DataFrame\n",
    "df = pd.DataFrame(all_weather_data)\n",
    "\n",
    "# Print or export\n",
    "print(df)\n",
    "df.to_csv(\"multi_city_weather_data.csv\", index=False)"
   ]
  }
 ],
 "metadata": {
  "kernelspec": {
   "display_name": "ibm_data",
   "language": "python",
   "name": "python3"
  },
  "language_info": {
   "codemirror_mode": {
    "name": "ipython",
    "version": 3
   },
   "file_extension": ".py",
   "mimetype": "text/x-python",
   "name": "python",
   "nbconvert_exporter": "python",
   "pygments_lexer": "ipython3",
   "version": "3.10.9"
  }
 },
 "nbformat": 4,
 "nbformat_minor": 2
}
